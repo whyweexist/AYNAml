
# # Polygon Coloring with Conditional UNet - Inference and Testing
# 
# This notebook demonstrates how to load the trained model and perform inference on polygon coloring tasks.

# ## 1. Setup and Imports

# %%
import torch
import torch.nn as nn
import numpy as np
import matplotlib.pyplot as plt
from PIL import Image
import torchvision.transforms as transforms
import os
import json
from pathlib import Path
import cv2

# Import our custom modules
from unet_model import ConditionalUNet, ColorMapper
from dataset_loader import PolygonColorDataset, create_dataloaders

# Set device
device = torch.device('cuda' if torch.cuda.is_available() else 'cpu')
print(f"Using device: {device}")

# ## 2. Model Loading

# %%
class ModelInference:
    def __init__(self, checkpoint_path, device='cuda'):
        self.device = torch.device(device if torch.cuda.is_available() else 'cpu')
        self.color_mapper = ColorMapper()
        
        # Load checkpoint
        checkpoint = torch.load(checkpoint_path, map_location=self.device)
        self.config = checkpoint['config']
        
        # Initialize model
        self.model = ConditionalUNet(
            n_channels=3,
            n_classes=3,
            num_colors=len(self.color_mapper.color_to_id),
            color_embed_dim=self.config['color_embed_dim'],
            bilinear=self.config['bilinear']
        ).to(self.device)
        
        # Load trained weights
        self.model.load_state_dict(checkpoint['model_state_dict'])
        self.model.eval()
        
        # Setup transforms
        self.transform = transforms.Compose([
            transforms.Resize((self.config['image_size'], self.config['image_size'])),
            transforms.ToTensor(),
        ])
        
        print(f"Model loaded successfully from epoch {checkpoint['epoch']}")
        print(f"Validation loss: {checkpoint['val_loss']:.4f}")
    
    def preprocess_image(self, image_path):
        """Preprocess input image"""
        if isinstance(image_path, str):
            image = Image.open(image_path).convert('RGB')
        else:
            # Assume it's already a PIL image
            image = image_path.convert('RGB')
        
        return self.transform(image).unsqueeze(0).to(self.device)
    
    def predict(self, image_path, color_name):
        """Generate colored polygon"""
        # Preprocess image
        input_tensor = self.preprocess_image(image_path)
        
        # Get color ID
        color_id = self.color_mapper.color_name_to_id(color_name)
        color_tensor = torch.tensor([color_id], dtype=torch.long).to(self.device)
        
        # Inference
        with torch.no_grad():
            output = self.model(input_tensor, color_tensor)
        
        # Convert to numpy
        output_np = output.cpu().squeeze(0).numpy().transpose(1, 2, 0)
        output_np = np.clip(output_np, 0, 1)
        
        return output_np
    
    def predict_batch(self, image_paths, color_names):
        """Predict on batch of images"""
        batch_size = len(image_paths)
        
        # Preprocess images
        input_batch = []
        for img_path in image_paths:
            img_tensor = self.preprocess_image(img_path)
            input_batch.append(img_tensor)
        
        input_batch = torch.cat(input_batch, dim=0)
        
        # Get color IDs
        color_ids = [self.color_mapper.color_name_to_id(color) for color in color_names]
        color_tensor = torch.tensor(color_ids, dtype=torch.long).to(self.device)
        
        # Inference
        with torch.no_grad():
            outputs = self.model(input_batch, color_tensor)
        
        # Convert to numpy
        outputs_np = []
        for i in range(batch_size):
            output_np = outputs[i].cpu().numpy().transpose(1, 2, 0)
            output_np = np.clip(output_np, 0, 1)
            outputs_np.append(output_np)
        
        return outputs_np


# ## 3. Load Trained Model


# Update this path to your trained model checkpoint
#checkpoint_path = "path/to/your/best_model.pth"

# Uncomment the following lines when you have a trained model
# try:
#     inference_model = ModelInference(checkpoint_path, device=device)
#     print("Model loaded successfully!")
# except FileNotFoundError:
#     print(f"Checkpoint not found at {checkpoint_path}")
#     print("Please train the model first or update the checkpoint path")

# %% [markdown]
# ## 4. Synthetic Data Generation for Demo

# %%
def create_synthetic_polygon(shape_type, size=256, line_width=3):
    """Create a synthetic polygon outline for testing"""
    img = np.zeros((size, size, 3), dtype=np.uint8)
    center = (size // 2, size // 2)
    
    if shape_type == 'triangle':
        pts = np.array([[center[0], center[1] - 80],
                       [center[0] - 70, center[1] + 60],
                       [center[0] + 70, center[1] + 60]], np.int32)
        cv2.polylines(img, [pts], True, (255, 255, 255), line_width)
    
    elif shape_type == 'square':
        cv2.rectangle(img, (center[0] - 60, center[1] - 60), 
                     (center[0] + 60, center[1] + 60), (255, 255, 255), line_width)
    
    elif shape_type == 'circle':
        cv2.circle(img, center, 70, (255, 255, 255), line_width)
    
    elif shape_type == 'hexagon':
        pts = []
        for i in range(6):
            angle = i * np.pi / 3
            x = int(center[0] + 70 * np.cos(angle))
            y = int(center[1] + 70 * np.sin(angle))
            pts.append([x, y])
        pts = np.array(pts, np.int32)
        cv2.polylines(img, [pts], True, (255, 255, 255), line_width)
    
    elif shape_type == 'pentagon':
        pts = []
        for i in range(5):
            angle = i * 2 * np.pi / 5 - np.pi / 2
            x = int(center[0] + 70 * np.cos(angle))
            y = int(center[1] + 70 * np.sin(angle))
            pts.append([x, y])
        pts = np.array(pts, np.int32)
        cv2.polylines(img, [pts], True, (255, 255, 255), line_width)
    
    return img

# Create sample polygons for testing
sample_shapes = ['triangle', 'square', 'circle', 'hexagon', 'pentagon']
sample_colors = ['red', 'blue', 'green', 'yellow', 'purple']

print("Creating synthetic test polygons...")
test_images = []
for shape in sample_shapes:
    img = create_synthetic_polygon(shape)
    test_images.append(Image.fromarray(img))

# Display sample inputs
fig, axes = plt.subplots(1, len(sample_shapes), figsize=(15, 3))
for i, (shape, img) in enumerate(zip(sample_shapes, test_images)):
    axes[i].imshow(img)
    axes[i].set_title(f'{shape.capitalize()}')
    axes[i].axis('off')
plt.suptitle('Sample Input Polygons')
plt.tight_layout()
plt.show()

# ## 5. Model Inference Demo


def demo_inference():
    """Demo function showing model inference"""
    print("Demo inference with synthetic polygons...")
    
    # This would work with a trained model
    # Replace with actual inference when model is available
    
    # Simulate predictions for demonstration
    fig, axes = plt.subplots(len(sample_shapes), len(sample_colors), figsize=(15, 15))
    
    for i, shape in enumerate(sample_shapes):
        for j, color in enumerate(sample_colors):
            # In actual implementation, this would be:
            # prediction = inference_model.predict(test_images[i], color)
            
            # For demo, create a simple colored version
            input_img = np.array(test_images[i]) / 255.0
            
            # Simulate a colored output (replace with actual model output)
            color_map = {
                'red': [1, 0, 0], 'blue': [0, 0, 1], 'green': [0, 1, 0],
                'yellow': [1, 1, 0], 'purple': [0.5, 0, 0.5]
            }
            
            # Create a simple colored version for demonstration
            gray_input = np.mean(input_img, axis=2, keepdims=True)
            mask = (gray_input > 0.1).astype(float)
            colored_output = mask * np.array(color_map[color]) + (1 - mask) * input_img
            
            axes[i, j].imshow(colored_output)
            axes[i, j].set_title(f'{shape} - {color}')
            axes[i, j].axis('off')
    
    plt.suptitle('Predicted Colored Polygons (Demo)', fontsize=16)
    plt.tight_layout()
    plt.show()

demo_inference()

# %% [markdown]
# ## 6. Actual Model Inference (Uncomment when model is available)

# %%
def run_actual_inference():
    """Run actual model inference"""
    if 'inference_model' not in locals():
        print("Model not loaded. Please load the model first.")
        return
    
    print("Running actual model inference...")
    
    # Single prediction example
    test_shape = sample_shapes[0]  # triangle
    test_color = 'red'
    
    prediction = inference_model.predict(test_images[0], test_color)
    
    # Visualize result
    fig, axes = plt.subplots(1, 2, figsize=(8, 4))
    
    axes[0].imshow(test_images[0])
    axes[0].set_title('Input Polygon')
    axes[0].axis('off')
    
    axes[1].imshow(prediction)
    axes[1].set_title(f'Predicted {test_color} {test_shape}')
    axes[1].axis('off')
    
    plt.tight_layout()
    plt.show()
    
    # Batch prediction example
    batch_predictions = inference_model.predict_batch(test_images, sample_colors)
    
    # Visualize batch results
    fig, axes = plt.subplots(2, len(sample_shapes), figsize=(15, 6))
    
    for i, (shape, color, pred) in enumerate(zip(sample_shapes, sample_colors, batch_predictions)):
        axes[0, i].imshow(test_images[i])
        axes[0, i].set_title(f'Input: {shape}')
        axes[0, i].axis('off')
        
        axes[1, i].imshow(pred)
        axes[1, i].set_title(f'Output: {color} {shape}')
        axes[1, i].axis('off')
    
    plt.suptitle('Batch Inference Results')
    plt.tight_layout()
    plt.show()

# Uncomment the following line when you have a trained model
# run_actual_inference()

# ## 7. Evaluation on Validation Set
def evaluate_on_validation_set(data_dir, num_samples=10):
    """Evaluate model on validation set"""
    if 'inference_model' not in locals():
        print("Model not loaded. Please load the model first.")
        return
    
    # Load validation dataset
    _, val_loader = create_dataloaders(data_dir, batch_size=1, image_size=256)
    
    # Get random samples
    samples = []
    for i, batch in enumerate(val_loader):
        if i >= num_samples:
            break
        samples.append(batch)
    
    # Run inference
    fig, axes = plt.subplots(3, len(samples), figsize=(len(samples)*3, 9))
    
    for i, batch in enumerate(samples):
        input_img = batch['input'][0]
        target_img = batch['target'][0]
        color_name = batch['color_name'][0]
        
        # Convert to PIL for inference
        input_pil = transforms.ToPILImage()(input_img)
        prediction = inference_model.predict(input_pil, color_name)
        
        # Display
        axes[0, i].imshow(input_img.permute(1, 2, 0))
        axes[0, i].set_title('Input')
        axes[0, i].axis('off')
        
        axes[1, i].imshow(target_img.permute(1, 2, 0))
        axes[1, i].set_title(f'Target ({color_name})')
        axes[1, i].axis('off')
        
        axes[2, i].imshow(prediction)
        axes[2, i].set_title('Prediction')
        axes[2, i].axis('off')
    
    plt.suptitle('Validation Set Evaluation')
    plt.tight_layout()
    plt.show()

# Uncomment when you have both model and dataset
# evaluate_on_validation_set('path/to/dataset')

# ## 8. Interactive Testing

def interactive_testing():
    """Interactive function to test different color combinations"""
    if 'inference_model' not in locals():
        print("Model not loaded. Please load the model first.")
        return
    
    available_colors = list(inference_model.color_mapper.color_to_id.keys())
    
    print("Available colors:", available_colors)
    print("Available shapes:", sample_shapes)
    
    # Example: Test all colors on a triangle
    test_shape_idx = 0  # triangle
    
    fig, axes = plt.subplots(2, 5, figsize=(15, 6))
    axes = axes.flatten()
    
    for i, color in enumerate(available_colors):
        if i >= 10:  # Limit to 10 colors for display
            break
            
        prediction = inference_model.predict(test_images[test_shape_idx], color)
        
        axes[i].imshow(prediction)
        axes[i].set_title(f'{color} triangle')
        axes[i].axis('off')
    
    plt.suptitle('Color Variations on Triangle')
    plt.tight_layout()
    plt.show()

# Uncomment when model is available
# interactive_testing()

# ## 9. Model Performance Analysis

def analyze_model_performance():
    """Analyze model performance and failure cases"""
    if 'inference_model' not in locals():
        print("Model not loaded. Please load the model first.")
        return
    
    print("Model Architecture Analysis:")
    print(f"Total parameters: {sum(p.numel() for p in inference_model.model.parameters()):,}")
    print(f"Trainable parameters: {sum(p.numel() for p in inference_model.model.parameters() if p.requires_grad):,}")
    
    # Analyze different aspects
    print("\nTesting edge cases...")
    
    # Test with different shapes and colors
    test_cases = [
        ('triangle', 'red'),
        ('square', 'blue'),
        ('circle', 'green'),
        ('hexagon', 'yellow'),
        ('pentagon', 'purple')
    ]
    
    fig, axes = plt.subplots(len(test_cases), 3, figsize=(9, len(test_cases)*2))
    
    for i, (shape, color) in enumerate(test_cases):
        shape_idx = sample_shapes.index(shape)
        input_img = test_images[shape_idx]
        
        prediction = inference_model.predict(input_img, color)
        
        # Display input, prediction, and difference
        axes[i, 0].imshow(input_img)
        axes[i, 0].set_title(f'Input: {shape}')
        axes[i, 0].axis('off')
        
        axes[i, 1].imshow(prediction)
        axes[i, 1].set_title(f'Prediction: {color}')
        axes[i, 1].axis('off')
        
        # Show color intensity
        color_intensity = np.mean(prediction, axis=2)
        axes[i, 2].imshow(color_intensity, cmap='hot')
        axes[i, 2].set_title('Color Intensity')
        axes[i, 2].axis('off')
    
    plt.suptitle('Performance Analysis')
    plt.tight_layout()
    plt.show()

# Uncomment when model is available
# analyze_model_performance()

# ## 10. Save Results

def save_inference_results(output_dir='inference_results'):
    """Save inference results to files"""
    if 'inference_model' not in locals():
        print("Model not loaded. Please load the model first.")
        return
    
    os.makedirs(output_dir, exist_ok=True)
    
    # Generate and save results for all combinations
    for i, shape in enumerate(sample_shapes):
        for color in sample_colors:
            prediction = inference_model.predict(test_images[i], color)
            
            # Convert to PIL image
            pred_img = Image.fromarray((prediction * 255).astype(np.uint8))
            
            # Save
            filename = f"{shape}_{color}.png"
            pred_img.save(os.path.join(output_dir, filename))
    
    print(f"Results saved to {output_dir}/")

# Uncomment when model is available
# save_inference_results()

print("Inference notebook ready! Load your trained model to run actual inference.")
